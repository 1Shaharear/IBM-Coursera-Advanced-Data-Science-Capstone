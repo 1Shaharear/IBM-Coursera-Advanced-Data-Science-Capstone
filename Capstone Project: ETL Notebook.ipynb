{
    "nbformat_minor": 1, 
    "cells": [
        {
            "execution_count": 1, 
            "cell_type": "code", 
            "metadata": {}, 
            "outputs": [], 
            "source": "# -*- coding: utf-8 -*-\n\"\"\"\nCreated on Sat Feb 16 2019\n\n@author: Sumudu Tennakoon\n@licence:Apache License, Version 2.0 (http://www.apache.org/licenses/LICENSE-2.0)\n\"\"\"\n\nimport sys\nimport argparse\nimport os\nimport traceback\n\nimport pandas as pd\nimport numpy as np\nimport matplotlib.pyplot as plt \n\nimport PIL\nfrom PIL import Image as PImage, ImageDraw, ImageEnhance, ImageFilter, ImageChops, ImageOps"
        }, 
        {
            "source": "# 1. Processing the files list", 
            "cell_type": "markdown", 
            "metadata": {}
        }, 
        {
            "source": "## 1.1 Setting File Paths", 
            "cell_type": "markdown", 
            "metadata": {}
        }, 
        {
            "execution_count": 1, 
            "cell_type": "code", 
            "metadata": {}, 
            "outputs": [], 
            "source": "DataRootFolder = r'D:\\SourceData\\IBM_ADS_Capstone\\rvl-cdip\\images'"
        }, 
        {
            "source": "## 1.2 Load image label lookup tables", 
            "cell_type": "markdown", 
            "metadata": {}
        }, 
        {
            "execution_count": null, 
            "cell_type": "code", 
            "metadata": {}, 
            "outputs": [], 
            "source": "TestFiles = pd.read_csv(r'D:\\SourceData\\IBM_ADS_Capstone\\rvl-cdip\\labels\\test.txt', sep=' ', header=None)\nTrainFiles = pd.read_csv(r'D:\\SourceData\\IBM_ADS_Capstone\\rvl-cdip\\labels\\train.txt', sep=' ', header=None)\nValidateFiles = pd.read_csv(r'D:\\SourceData\\IBM_ADS_Capstone\\rvl-cdip\\labels\\val.txt', sep=' ', header=None)\nFilePaths = TrainFiles.append(TestFiles, ignore_index=True)\nFilePaths = FilePaths.append(ValidateFiles, ignore_index=True)\nFilePaths.columns=['FilePath', 'ClassNumber']\nprint('File Count', len(FilePaths.index))\nprint(FilePaths.head())"
        }, 
        {
            "source": "## 1.3 Get dataset counts", 
            "cell_type": "markdown", 
            "metadata": {}
        }, 
        {
            "execution_count": null, 
            "cell_type": "code", 
            "metadata": {}, 
            "outputs": [], 
            "source": "print(FilePaths.groupby(by='ClassNumber')['ClassNumber'].count())"
        }, 
        {
            "execution_count": null, 
            "cell_type": "code", 
            "metadata": {}, 
            "outputs": [], 
            "source": "## 1.4 Assign text labels"
        }, 
        {
            "execution_count": null, 
            "cell_type": "code", 
            "metadata": {}, 
            "outputs": [], 
            "source": "ClassLabelLookup=pd.DataFrame(data=[(0  , 'letter', 1)\n                                ,(1 , 'form', 0)\n                                ,(2 , 'email', 0)\n                                ,(3 , 'handwritten', 1)\n                                ,(4 , 'advertisement', 1)\n                                ,(5 , 'scientific report', 0)\n                                ,(6 , 'scientific publication', 1)\n                                ,(7 , 'specification', 0)\n                                ,(8 , 'file folder', 0)\n                                ,(9 , 'news article', 0)\n                                ,(10, 'budget', 0)\n                                ,(11, 'invoice', 1)\n                                ,(12, 'presentation', 0)\n                                ,(13, 'questionnaire', 0)\n                                ,(14, 'resume', 1)\n                                ,(15, 'memo', 0)], columns=['ClassNumber','ClassLabel', 'UseToModel'])\nFilePaths = FilePaths.merge(ClassLabelLookup, on='ClassNumber', how='left' )\n#Preview dataset\nprint(FilePaths.head())"
        }, 
        {
            "source": "## 1.4 Get group counts", 
            "cell_type": "markdown", 
            "metadata": {}
        }, 
        {
            "execution_count": null, 
            "cell_type": "code", 
            "metadata": {}, 
            "outputs": [], 
            "source": "print(FilePaths.groupby(by='ClassLabel')['ClassLabel'].count())"
        }, 
        {
            "source": "## 1.5 Save results", 
            "cell_type": "markdown", 
            "metadata": {}
        }, 
        {
            "execution_count": null, 
            "cell_type": "code", 
            "metadata": {}, 
            "outputs": [], 
            "source": "FilePaths.to_csv(r'D:\\SourceData\\IBM_ADS_Capstone\\rvl-cdip_files_list.csv', index=False)  \nFilePaths.to_pickle(r'D:\\SourceData\\IBM_ADS_Capstone\\rvl-cdip_files_list.pkl')  "
        }, 
        {
            "source": "# 2.  EXPLORING THE FILES CONTENT ", 
            "cell_type": "markdown", 
            "metadata": {}
        }, 
        {
            "execution_count": null, 
            "cell_type": "code", 
            "metadata": {}, 
            "outputs": [], 
            "source": "from PIL import Image\nimport numpy  as np\nimport matplotlib.pyplot as plt \nimport os "
        }, 
        {
            "source": "## 2.1 Getting the image preview in python", 
            "cell_type": "markdown", 
            "metadata": {}
        }, 
        {
            "execution_count": null, 
            "cell_type": "code", 
            "metadata": {}, 
            "outputs": [], 
            "source": "def PreviewFile(RootFolder, ImageFileRow):\n    im = Image.open(os.path.join(RootFolder,ImageFileRow['FilePath'])) \n    imarray = np.array(im) \n    plt.imshow(imarray)\n    plt.xlabel(ImageFileRow['ClassLabel'])\n    plt.colorbar()\n    plt.show()"
        }, 
        {
            "execution_count": null, 
            "cell_type": "code", 
            "metadata": {}, 
            "outputs": [], 
            "source": "PreviewFile(DataRootFolder, FilePaths.loc[0])\nN = 16\nDataset = FilePaths.sample(N)\nfor i in range(N):\n    PreviewFile(DataRootFolder, FilePaths.loc[i])"
        }, 
        {
            "source": "# 3. ORGANIZING FILES AND SELECTING A SAMPLE", 
            "cell_type": "markdown", 
            "metadata": {}
        }, 
        {
            "execution_count": null, 
            "cell_type": "code", 
            "metadata": {}, 
            "outputs": [], 
            "source": "import shutil\nimport os\nfrom timeit import default_timer as timer\nimport multiprocessing\nimport pandas as pd"
        }, 
        {
            "execution_count": null, 
            "cell_type": "code", 
            "metadata": {}, 
            "outputs": [], 
            "source": "def CopyImageFiles(FilePaths, SourceDataRootFolder, DestinationRootFolder, LabelDescription):\n    FileList = FilePaths.values\n    #print(FileList[0])\n    for f in FileList:\n        SourceFilePath = SourceDataRootFolder+'/'+ f[0] \n        DestinationFolder=DestinationRootFolder+'/{}'.format(LabelDescription[f[1]])\n        shutil.copy2(SourceFilePath, DestinationFolder)\n        print(SourceFilePath, '->', DestinationFolder, f[1])"
        }, 
        {
            "execution_count": null, 
            "cell_type": "code", 
            "metadata": {}, 
            "outputs": [], 
            "source": "def CreateistOfSorted(RootDir):\n    TargetFolders = ['advertisement',\n                     'handwritten',\n                     'invoice',\n                     'letter',\n                     'resume',\n                     'scientific publication']\n    \n    FilesDF= pd.DataFrame()\n    \n    for folder in TargetFolders:\n        FilesList = os.listdir(RootDir+'\\\\'+folder)\n        temp = pd.DataFrame(data=FilesList,columns=['FileName'])\n        temp['ClassLabel'] = folder\n        FilesDF = FilesDF.append(temp, ignore_index=True)\n        \n    return FilesDF"
        }, 
        {
            "execution_count": null, 
            "cell_type": "code", 
            "metadata": {}, 
            "outputs": [], 
            "source": "SourceDataRootFolder = r'D:\\SourceData\\IBM_ADS_Capstone\\rvl-cdip\\images' \nDestinationRootFolder = r'D:\\SourceData\\IBM_ADS_Capstone\\rvl-cdip_sorted_by_label'\nClassLabels =     ['letter', 'form', 'email', 'handwritten', 'advertisement',\n       'scientific report', 'scientific publication', 'specification',\n       'file folder', 'news article', 'budget', 'invoice', 'presentation',\n       'questionnaire', 'resume', 'memo']\n\nCopyImageFiles(FilePaths, SourceDataRootFolder, DestinationRootFolder, ClassLabels)"
        }, 
        {
            "source": "# 4. ETL PPROCESS\nto load data in model building and application", 
            "cell_type": "markdown", 
            "metadata": {}
        }, 
        {
            "execution_count": 4, 
            "cell_type": "code", 
            "metadata": {}, 
            "outputs": [
                {
                    "output_type": "stream", 
                    "name": "stderr", 
                    "text": "Using TensorFlow backend.\n"
                }
            ], 
            "source": "import tensorflow as tf\nimport keras as keras\nfrom keras import backend as K"
        }, 
        {
            "execution_count": 5, 
            "cell_type": "code", 
            "metadata": {}, 
            "outputs": [], 
            "source": "class ETL:\n    def ImageToArray(self, FileName, size=(28,28)):\n        \n        DocImage=PImage.open(FileName)\n        \n        DocImage = DocImage.resize(size=size, resample=PIL.Image.BOX)\n        \n        if DocImage.mode == 'RGBA':\n            canvas = PImage.new('RGB', DocImage.size, (255, 255, 255))\n            canvas.paste(DocImage, (0, 0), DocImage)\n            DocImage = canvas      \n              \n        if DocImage.mode != 'L':\n            DocImage = DocImage.convert('L')  #Convert to greyscale  \n        else:\n            pass \n        # doc_image.autocontrast https://pillow.readthedocs.io/en/stable/reference/ImageOps.html\n        DocImage = ImageOps.autocontrast(DocImage)\n        ImageMatrix = np.array(DocImage) \n        DocImage.close()\n        return ImageMatrix\n    \n        \n    def TransformImageMatrix(self, X, size=(28,28)):\n        img_rows = size[0]\n        img_cols =size[1]\n        \n        if keras.backend.image_data_format() == 'channels_first':\n            X = X.reshape(X.shape[0], 1, img_rows, img_cols)\n            input_shape = (1, img_rows, img_cols)\n        else:\n            X = X.reshape(X.shape[0], img_rows, img_cols, 1)\n            input_shape = (img_rows, img_cols, 1)\n            \n        X = X.astype('float32') #convert interger image tensor to float\n        X = X/255 # Normalize grayscale to a number between 0 and 1\n        \n        return X, input_shape\n    \n    def ETL(self, InputFiles, size=(28,28)):    \n        Images = []\n        if isinstance(InputFiles, (list, tuple)):\n            for f in InputFiles:\n                try:\n                    Images.append(self.ImageToArray(f, size=size))\n                except:\n                    Images.append(np.zeros(size))\n                    print('Failed to load', f)\n        else:\n            try:\n                Images.append(self.ImageToArray(InputFiles, size=size))\n            except:\n                Images.append(np.zeros(size))\n                print('Failed to load', InputFiles)\n            \n        Images = np.asarray(list(Images), dtype ='int')\n        Images, _ = self.TransformImageMatrix(Images, size=size)\n        return Images#, InputFiles"
        }, 
        {
            "source": "<hr>\n<p> This notebook and related materials were developed by <b> Sumudu Tennakoon</b> for the capstone project in partial fulfillment of the requirements for the <b> Advanced Data Science with IBM Specialization</b>. \n    <br>March 2019. </p>\n", 
            "cell_type": "markdown", 
            "metadata": {}
        }, 
        {
            "execution_count": null, 
            "cell_type": "code", 
            "metadata": {}, 
            "outputs": [], 
            "source": ""
        }
    ], 
    "metadata": {
        "kernelspec": {
            "display_name": "Python 3.5", 
            "name": "python3", 
            "language": "python"
        }, 
        "language_info": {
            "mimetype": "text/x-python", 
            "nbconvert_exporter": "python", 
            "version": "3.5.5", 
            "name": "python", 
            "file_extension": ".py", 
            "pygments_lexer": "ipython3", 
            "codemirror_mode": {
                "version": 3, 
                "name": "ipython"
            }
        }
    }, 
    "nbformat": 4
}