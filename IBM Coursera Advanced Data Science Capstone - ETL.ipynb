{
 "cells": [
  {
   "cell_type": "code",
   "execution_count": 13,
   "metadata": {},
   "outputs": [],
   "source": [
    "# -*- coding: utf-8 -*-\n",
    "\"\"\"\n",
    "Created on Sat Feb 16 2019\n",
    "\n",
    "@author: Sumudu Tennakoon\n",
    "@licence:Apache License, Version 2.0 (http://www.apache.org/licenses/LICENSE-2.0)\n",
    "\"\"\"\n",
    "\n",
    "import sys\n",
    "import argparse\n",
    "import os\n",
    "import traceback\n",
    "\n",
    "import pandas as pd\n",
    "import numpy as np\n",
    "import matplotlib.pyplot as plt \n",
    "\n",
    "import PIL\n",
    "from PIL import Image as PImage, ImageDraw, ImageEnhance, ImageFilter, ImageChops, ImageOps"
   ]
  },
  {
   "cell_type": "markdown",
   "metadata": {},
   "source": [
    "# 1. Processing the files list"
   ]
  },
  {
   "cell_type": "markdown",
   "metadata": {},
   "source": [
    "## 1.1 Setting File Paths"
   ]
  },
  {
   "cell_type": "code",
   "execution_count": 14,
   "metadata": {},
   "outputs": [],
   "source": [
    "DataRootFolder = '/images'"
   ]
  },
  {
   "cell_type": "markdown",
   "metadata": {},
   "source": [
    "## 1.2 Load image label lookup tables"
   ]
  },
  {
   "cell_type": "code",
   "execution_count": 15,
   "metadata": {},
   "outputs": [
    {
     "name": "stdout",
     "output_type": "stream",
     "text": [
      "File Count 400000\n",
      "                                           FilePath  ClassNumber\n",
      "0               imagesq/q/o/c/qoc54c00/80035521.tif           15\n",
      "1              imagese/e/w/c/ewc23d00/513280028.tif            1\n",
      "2             imagesw/w/b/t/wbt26e00/2053453161.tif            7\n",
      "3  imagesm/m/k/m/mkm05e00/2040792992_2040792994.tif           10\n",
      "4        imageso/o/e/x/oex80d00/522787731+-7732.tif            3\n"
     ]
    }
   ],
   "source": [
    "TestFiles = pd.read_csv('rvl-cdip/labels/test.txt', sep=' ', header=None)\n",
    "TrainFiles = pd.read_csv('rvl-cdip/labels/train.txt', sep=' ', header=None)\n",
    "ValidateFiles = pd.read_csv('rvl-cdip/labels/val.txt', sep=' ', header=None)\n",
    "FilePaths = TrainFiles.append(TestFiles, ignore_index=True)\n",
    "FilePaths = FilePaths.append(ValidateFiles, ignore_index=True)\n",
    "FilePaths.columns=['FilePath', 'ClassNumber']\n",
    "print('File Count', len(FilePaths.index))\n",
    "print(FilePaths.head())"
   ]
  },
  {
   "cell_type": "markdown",
   "metadata": {},
   "source": [
    "## 1.3 Get dataset counts"
   ]
  },
  {
   "cell_type": "code",
   "execution_count": 16,
   "metadata": {},
   "outputs": [
    {
     "name": "stdout",
     "output_type": "stream",
     "text": [
      "ClassNumber\n",
      "0     25000\n",
      "1     25000\n",
      "2     25000\n",
      "3     25000\n",
      "4     25000\n",
      "5     25000\n",
      "6     25000\n",
      "7     25000\n",
      "8     25000\n",
      "9     25000\n",
      "10    25000\n",
      "11    25000\n",
      "12    25000\n",
      "13    25000\n",
      "14    25000\n",
      "15    25000\n",
      "Name: ClassNumber, dtype: int64\n"
     ]
    }
   ],
   "source": [
    "print(FilePaths.groupby(by='ClassNumber')['ClassNumber'].count())"
   ]
  },
  {
   "cell_type": "markdown",
   "metadata": {},
   "source": [
    "## 1.4 Assign text labels"
   ]
  },
  {
   "cell_type": "code",
   "execution_count": 17,
   "metadata": {},
   "outputs": [
    {
     "name": "stdout",
     "output_type": "stream",
     "text": [
      "                                           FilePath  ClassNumber  \\\n",
      "0               imagesq/q/o/c/qoc54c00/80035521.tif           15   \n",
      "1              imagese/e/w/c/ewc23d00/513280028.tif            1   \n",
      "2             imagesw/w/b/t/wbt26e00/2053453161.tif            7   \n",
      "3  imagesm/m/k/m/mkm05e00/2040792992_2040792994.tif           10   \n",
      "4        imageso/o/e/x/oex80d00/522787731+-7732.tif            3   \n",
      "\n",
      "      ClassLabel  UseToModel  \n",
      "0           memo           0  \n",
      "1           form           0  \n",
      "2  specification           0  \n",
      "3         budget           0  \n",
      "4    handwritten           1  \n"
     ]
    }
   ],
   "source": [
    "ClassLabelLookup=pd.DataFrame(data=[(0  , 'letter', 1)\n",
    "                                ,(1 , 'form', 0)\n",
    "                                ,(2 , 'email', 0)\n",
    "                                ,(3 , 'handwritten', 1)\n",
    "                                ,(4 , 'advertisement', 1)\n",
    "                                ,(5 , 'scientific report', 0)\n",
    "                                ,(6 , 'scientific publication', 1)\n",
    "                                ,(7 , 'specification', 0)\n",
    "                                ,(8 , 'file folder', 0)\n",
    "                                ,(9 , 'news article', 0)\n",
    "                                ,(10, 'budget', 0)\n",
    "                                ,(11, 'invoice', 1)\n",
    "                                ,(12, 'presentation', 0)\n",
    "                                ,(13, 'questionnaire', 0)\n",
    "                                ,(14, 'resume', 1)\n",
    "                                ,(15, 'memo', 0)], columns=['ClassNumber','ClassLabel', 'UseToModel'])\n",
    "FilePaths = FilePaths.merge(ClassLabelLookup, on='ClassNumber', how='left' )\n",
    "#Preview dataset\n",
    "print(FilePaths.head())"
   ]
  },
  {
   "cell_type": "markdown",
   "metadata": {},
   "source": [
    "## 1.4 Get group counts"
   ]
  },
  {
   "cell_type": "code",
   "execution_count": 18,
   "metadata": {},
   "outputs": [
    {
     "name": "stdout",
     "output_type": "stream",
     "text": [
      "ClassLabel\n",
      "advertisement             25000\n",
      "budget                    25000\n",
      "email                     25000\n",
      "file folder               25000\n",
      "form                      25000\n",
      "handwritten               25000\n",
      "invoice                   25000\n",
      "letter                    25000\n",
      "memo                      25000\n",
      "news article              25000\n",
      "presentation              25000\n",
      "questionnaire             25000\n",
      "resume                    25000\n",
      "scientific publication    25000\n",
      "scientific report         25000\n",
      "specification             25000\n",
      "Name: ClassLabel, dtype: int64\n"
     ]
    }
   ],
   "source": [
    "print(FilePaths.groupby(by='ClassLabel')['ClassLabel'].count())"
   ]
  },
  {
   "cell_type": "markdown",
   "metadata": {},
   "source": [
    "## 1.5 Save results"
   ]
  },
  {
   "cell_type": "code",
   "execution_count": 19,
   "metadata": {},
   "outputs": [],
   "source": [
    "FilePaths.to_csv('rvl-cdip_files_list.csv', index=False)  \n",
    "FilePaths.to_pickle('rvl-cdip_files_list.pkl')  "
   ]
  },
  {
   "cell_type": "markdown",
   "metadata": {},
   "source": [
    "# 2.  EXPLORING THE FILES CONTENT "
   ]
  },
  {
   "cell_type": "code",
   "execution_count": 20,
   "metadata": {},
   "outputs": [],
   "source": [
    "from PIL import Image\n",
    "import numpy  as np\n",
    "import matplotlib.pyplot as plt \n",
    "import os "
   ]
  },
  {
   "cell_type": "markdown",
   "metadata": {},
   "source": [
    "## 2.1 Getting the image preview in python"
   ]
  },
  {
   "cell_type": "code",
   "execution_count": 21,
   "metadata": {},
   "outputs": [],
   "source": [
    "def PreviewFile(RootFolder, ImageFileRow):\n",
    "    im = Image.open(os.path.join(RootFolder,ImageFileRow['FilePath'])) \n",
    "    imarray = np.array(im) \n",
    "    plt.imshow(imarray)\n",
    "    plt.xlabel(ImageFileRow['ClassLabel'])\n",
    "    plt.colorbar()\n",
    "    plt.show()"
   ]
  },
  {
   "cell_type": "code",
   "execution_count": null,
   "metadata": {},
   "outputs": [],
   "source": [
    "DataRootFolder = r'D:\\SourceData\\IBM_ADS_Capstone\\rvl-cdip\\images'\n",
    "PreviewFile(DataRootFolder, FilePaths.loc[0])\n",
    "N = 16\n",
    "Dataset = FilePaths.sample(N)\n",
    "for i in range(N):\n",
    "    PreviewFile(DataRootFolder, FilePaths.loc[i])"
   ]
  },
  {
   "cell_type": "markdown",
   "metadata": {},
   "source": [
    "# 3. ORGANIZING FILES AND SELECTING A SAMPLE"
   ]
  },
  {
   "cell_type": "code",
   "execution_count": null,
   "metadata": {},
   "outputs": [],
   "source": [
    "import shutil\n",
    "import os\n",
    "from timeit import default_timer as timer\n",
    "import multiprocessing\n",
    "import pandas as pd"
   ]
  },
  {
   "cell_type": "code",
   "execution_count": null,
   "metadata": {},
   "outputs": [],
   "source": [
    "def CopyImageFiles(FilePaths, SourceDataRootFolder, DestinationRootFolder, LabelDescription):\n",
    "    FileList = FilePaths.values\n",
    "    #print(FileList[0])\n",
    "    for f in FileList:\n",
    "        SourceFilePath = SourceDataRootFolder+'/'+ f[0] \n",
    "        DestinationFolder=DestinationRootFolder+'/{}'.format(LabelDescription[f[1]])\n",
    "        shutil.copy2(SourceFilePath, DestinationFolder)\n",
    "        print(SourceFilePath, '->', DestinationFolder, f[1])"
   ]
  },
  {
   "cell_type": "code",
   "execution_count": null,
   "metadata": {},
   "outputs": [],
   "source": [
    "def CreateistOfSorted(RootDir):\n",
    "    TargetFolders = ['advertisement',\n",
    "                     'handwritten',\n",
    "                     'invoice',\n",
    "                     'letter',\n",
    "                     'resume',\n",
    "                     'scientific publication']\n",
    "    \n",
    "    FilesDF= pd.DataFrame()\n",
    "    \n",
    "    for folder in TargetFolders:\n",
    "        FilesList = os.listdir(RootDir+'\\\\'+folder)\n",
    "        temp = pd.DataFrame(data=FilesList,columns=['FileName'])\n",
    "        temp['ClassLabel'] = folder\n",
    "        FilesDF = FilesDF.append(temp, ignore_index=True)\n",
    "        \n",
    "    return FilesDF"
   ]
  },
  {
   "cell_type": "code",
   "execution_count": null,
   "metadata": {},
   "outputs": [],
   "source": [
    "SourceDataRootFolder = r'D:\\SourceData\\IBM_ADS_Capstone\\rvl-cdip\\images' \n",
    "DestinationRootFolder = r'D:\\SourceData\\IBM_ADS_Capstone\\rvl-cdip_sorted_by_label'\n",
    "ClassLabels =     ['letter', 'form', 'email', 'handwritten', 'advertisement',\n",
    "       'scientific report', 'scientific publication', 'specification',\n",
    "       'file folder', 'news article', 'budget', 'invoice', 'presentation',\n",
    "       'questionnaire', 'resume', 'memo']\n",
    "\n",
    "CopyImageFiles(FilePaths, SourceDataRootFolder, DestinationRootFolder, ClassLabels)"
   ]
  },
  {
   "cell_type": "markdown",
   "metadata": {},
   "source": [
    "# 4. ETL PPROCESS\n",
    "to load data in model building and application"
   ]
  },
  {
   "cell_type": "code",
   "execution_count": null,
   "metadata": {},
   "outputs": [],
   "source": [
    "import tensorflow as tf\n",
    "import keras as keras\n",
    "from keras import backend as K"
   ]
  },
  {
   "cell_type": "code",
   "execution_count": null,
   "metadata": {},
   "outputs": [],
   "source": [
    "class ETL:\n",
    "    def ImageToArray(self, FileName, size=(28,28)):\n",
    "        \n",
    "        DocImage=PImage.open(FileName)\n",
    "        \n",
    "        DocImage = DocImage.resize(size=size, resample=PIL.Image.BOX)\n",
    "        \n",
    "        if DocImage.mode == 'RGBA':\n",
    "            canvas = PImage.new('RGB', DocImage.size, (255, 255, 255))\n",
    "            canvas.paste(DocImage, (0, 0), DocImage)\n",
    "            DocImage = canvas      \n",
    "              \n",
    "        if DocImage.mode != 'L':\n",
    "            DocImage = DocImage.convert('L')  #Convert to greyscale  \n",
    "        else:\n",
    "            pass \n",
    "        # doc_image.autocontrast https://pillow.readthedocs.io/en/stable/reference/ImageOps.html\n",
    "        DocImage = ImageOps.autocontrast(DocImage)\n",
    "        ImageMatrix = np.array(DocImage) \n",
    "        DocImage.close()\n",
    "        return ImageMatrix\n",
    "    \n",
    "        \n",
    "    def TransformImageMatrix(self, X, size=(28,28)):\n",
    "        img_rows = size[0]\n",
    "        img_cols =size[1]\n",
    "        \n",
    "        if keras.backend.image_data_format() == 'channels_first':\n",
    "            X = X.reshape(X.shape[0], 1, img_rows, img_cols)\n",
    "            input_shape = (1, img_rows, img_cols)\n",
    "        else:\n",
    "            X = X.reshape(X.shape[0], img_rows, img_cols, 1)\n",
    "            input_shape = (img_rows, img_cols, 1)\n",
    "            \n",
    "        X = X.astype('float32') #convert interger image tensor to float\n",
    "        X = X/255 # Normalize grayscale to a number between 0 and 1\n",
    "        \n",
    "        return X, input_shape\n",
    "    \n",
    "    def ETL(self, InputFiles, size=(28,28)):    \n",
    "        Images = []\n",
    "        if isinstance(InputFiles, (list, tuple)):\n",
    "            for f in InputFiles:\n",
    "                try:\n",
    "                    Images.append(self.ImageToArray(f, size=size))\n",
    "                except:\n",
    "                    Images.append(np.zeros(size))\n",
    "                    print('Failed to load', f)\n",
    "        else:\n",
    "            try:\n",
    "                Images.append(self.ImageToArray(InputFiles, size=size))\n",
    "            except:\n",
    "                Images.append(np.zeros(size))\n",
    "                print('Failed to load', InputFiles)\n",
    "            \n",
    "        Images = np.asarray(list(Images), dtype ='int')\n",
    "        Images, _ = self.TransformImageMatrix(Images, size=size)\n",
    "        return Images#, InputFiles"
   ]
  },
  {
   "cell_type": "markdown",
   "metadata": {},
   "source": [
    "<hr>\n",
    "<p> This notebook and related materials were developed by <b> Sumudu Tennakoon</b> for the capstone project in partial fulfillment of the requirements for the <b> Advanced Data Science with IBM Specialization</b>. <br>\n",
    "March 2019. <br>\n",
    "Apache License, Version 2.0 (http://www.apache.org/licenses/LICENSE-2.0)</p>"
   ]
  },
  {
   "cell_type": "code",
   "execution_count": null,
   "metadata": {},
   "outputs": [],
   "source": []
  }
 ],
 "metadata": {
  "kernelspec": {
   "display_name": "Python 3",
   "language": "python",
   "name": "python3"
  },
  "language_info": {
   "codemirror_mode": {
    "name": "ipython",
    "version": 3
   },
   "file_extension": ".py",
   "mimetype": "text/x-python",
   "name": "python",
   "nbconvert_exporter": "python",
   "pygments_lexer": "ipython3",
   "version": "3.6.7"
  }
 },
 "nbformat": 4,
 "nbformat_minor": 1
}
